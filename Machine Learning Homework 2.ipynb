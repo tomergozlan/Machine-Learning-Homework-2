{
 "cells": [
  {
   "cell_type": "markdown",
   "id": "e6d26df7",
   "metadata": {},
   "source": [
    "# Problem 2"
   ]
  },
  {
   "cell_type": "code",
   "execution_count": 231,
   "id": "d921f6ab",
   "metadata": {},
   "outputs": [],
   "source": [
    "import numpy as np\n",
    "import pandas as pd\n",
    "import warnings\n",
    "warnings.filterwarnings(\"ignore\")"
   ]
  },
  {
   "cell_type": "markdown",
   "id": "13dfeca2",
   "metadata": {},
   "source": [
    "## Function: `perceptron`\n",
    "\n",
    "This function implements the **Perceptron algorithm**, which is a linear classifier for binary classification. The algorithm adjusts weights iteratively based on classification mistakes until the data is linearly separable or the maximum number of epochs is reached.\n",
    "\n",
    "### Parameters\n",
    "- **`X`**: A `numpy` array of shape `(n_samples, n_features)` representing the input features, where:\n",
    "  - `n_samples` is the number of data points.\n",
    "  - `n_features` is the number of features per data point.\n",
    "- **`y`**: A `numpy` array of shape `(n_samples,)` containing the labels for the data points. Labels must be either `+1` or `-1` for the algorithm to function correctly.\n",
    "- **`max_epochs`**: (Optional) An integer specifying the maximum number of passes (epochs) over the entire dataset. Default is 100.\n",
    "\n",
    "### Returns\n",
    "- **`w`**: A `numpy` array representing the final weight vector after training.\n",
    "- **`m`**: An integer representing the total number of classification mistakes made during the training process.\n"
   ]
  },
  {
   "cell_type": "code",
   "execution_count": 232,
   "id": "2f278b9a",
   "metadata": {},
   "outputs": [],
   "source": [
    " def perceptron(X, y, max_epochs=100):\n",
    "        \n",
    "    w = np.zeros(X.shape[1])  \n",
    "    m = 0                     \n",
    "\n",
    "    for epoch in range(max_epochs):\n",
    "        for i in range(len(X)):\n",
    "            if y[i] * (np.dot(w, X[i])) <= 0:  \n",
    "                w += y[i] * X[i]  \n",
    "                m += 1            \n",
    "    \n",
    "    return w, m"
   ]
  },
  {
   "cell_type": "markdown",
   "id": "101d08b6",
   "metadata": {},
   "source": [
    "## Function: `calculate_margin`\n",
    "\n",
    "This function computes the **true maximum margin** for a given weight vector `w`, dataset `X`, and labels `y`. The margin is a key concept in machine learning, particularly in support vector machines (SVMs), representing the smallest distance between the decision boundary and the closest data point.\n",
    "\n",
    "---\n",
    "\n",
    "### Parameters\n",
    "- **`X`**: A `numpy` array of shape `(n_samples, n_features)` representing the input features.\n",
    "  - `n_samples`: Number of data points.\n",
    "  - `n_features`: Number of features per data point.\n",
    "- **`y`**: A `numpy` array of shape `(n_samples,)` containing the labels for the data points. Labels must be `+1` or `-1`.\n",
    "- **`w`**: A `numpy` array representing the weight vector obtained from a model (e.g., Perceptron or SVM).\n",
    "\n",
    "---\n",
    "\n",
    "### Returns\n",
    "- **`margin`**: A float value representing the **true maximum margin**, defined as the smallest margin value among all data points.\n",
    "\n"
   ]
  },
  {
   "cell_type": "code",
   "execution_count": 233,
   "id": "744d1d7b",
   "metadata": {},
   "outputs": [],
   "source": [
    "def calculate_margin(X, y, w):\n",
    "\n",
    "    margins = [y[i] * np.dot(w, X[i]) / np.linalg.norm(w) for i in range(len(X))]\n",
    "    return np.min(margins)"
   ]
  },
  {
   "cell_type": "markdown",
   "id": "aadc88d5",
   "metadata": {},
   "source": [
    "## Function: `plot_data_and_boundary`\n",
    "\n",
    "This function visualizes a dataset and plots the decision boundary derived from a given weight vector `w`. It provides a graphical interpretation of the classification task, making it easier to understand the separation of classes.\n",
    "\n",
    "---\n",
    "\n",
    "### Parameters\n",
    "- **`X`**: A `numpy` array of shape `(n_samples, n_features)` representing the input features.\n",
    "  - `n_samples`: Number of data points.\n",
    "  - `n_features`: Number of features per data point (should be at least 2 for visualization purposes).\n",
    "- **`y`**: A `numpy` array of shape `(n_samples,)` containing the labels for the data points. Labels must be either `+1` or `-1`.\n",
    "- **`w`**: A `numpy` array representing the weight vector that defines the decision boundary.\n"
   ]
  },
  {
   "cell_type": "code",
   "execution_count": 234,
   "id": "d63eb86e",
   "metadata": {},
   "outputs": [],
   "source": [
    "def plot_data_and_boundary(X, y, w):\n",
    "    # Separate the data by class\n",
    "    pos_class = X[y == 1]\n",
    "    neg_class = X[y == -1]\n",
    "\n",
    "    # Plot data points\n",
    "    plt.scatter(pos_class[:, 0], pos_class[:, 1], color='blue', label='setosa (+1)')\n",
    "    plt.scatter(neg_class[:, 0], neg_class[:, 1], color='red', label='versicolor (-1)')\n",
    "\n",
    "    # Plot decision boundary\n",
    "    x_min, x_max = X[:, 0].min() - 1, X[:, 0].max() + 1\n",
    "    x_vals = np.linspace(x_min, x_max, 100)\n",
    "    y_vals = -(w[0] / w[1]) * x_vals  \n",
    "    plt.plot(x_vals, y_vals, color='green', label='Decision Boundary')\n",
    "\n",
    "    # Add labels and legend\n",
    "    plt.xlabel('Feature 2')\n",
    "    plt.ylabel('Feature 3')\n",
    "    plt.title('Data Visualization with Decision Boundary')\n",
    "    plt.legend()\n",
    "    plt.grid()\n",
    "    plt.show()"
   ]
  },
  {
   "cell_type": "markdown",
   "id": "b553938b",
   "metadata": {},
   "source": [
    "### Step 1: Load and preprocess the data"
   ]
  },
  {
   "cell_type": "code",
   "execution_count": 235,
   "id": "d2b77274",
   "metadata": {},
   "outputs": [],
   "source": [
    "file_path = \"/Users/twmrgwzln/Downloads/iris.txt\""
   ]
  },
  {
   "cell_type": "markdown",
   "id": "0405445e",
   "metadata": {},
   "source": [
    "### Step 2: Read dataset and split columns"
   ]
  },
  {
   "cell_type": "code",
   "execution_count": 236,
   "id": "55d6f22d",
   "metadata": {},
   "outputs": [
    {
     "name": "stdout",
     "output_type": "stream",
     "text": [
      "    Feature1 Feature2 Feature3 Feature4     Flower Type\n",
      "0        5.1      3.5      1.4      0.2     Iris-setosa\n",
      "1        4.9      3.0      1.4      0.2     Iris-setosa\n",
      "2        4.7      3.2      1.3      0.2     Iris-setosa\n",
      "3        4.6      3.1      1.5      0.2     Iris-setosa\n",
      "4        5.0      3.6      1.4      0.2     Iris-setosa\n",
      "..       ...      ...      ...      ...             ...\n",
      "145      6.7      3.0      5.2      2.3  Iris-virginica\n",
      "146      6.3      2.5      5.0      1.9  Iris-virginica\n",
      "147      6.5      3.0      5.2      2.0  Iris-virginica\n",
      "148      6.2      3.4      5.4      2.3  Iris-virginica\n",
      "149      5.9      3.0      5.1      1.8  Iris-virginica\n",
      "\n",
      "[150 rows x 5 columns]\n"
     ]
    }
   ],
   "source": [
    "data = pd.read_csv(file_path, header=None)\n",
    "data = data[0].str.split(expand=True)\n",
    "data.columns = [\"Feature1\", \"Feature2\", \"Feature3\", \"Feature4\", \"Flower Type\"]\n",
    "print(data)"
   ]
  },
  {
   "cell_type": "markdown",
   "id": "2f65b22a",
   "metadata": {},
   "source": [
    "### Step 3: Filter Setosa and virginica"
   ]
  },
  {
   "cell_type": "code",
   "execution_count": 237,
   "id": "4a25f3e3",
   "metadata": {},
   "outputs": [
    {
     "data": {
      "text/html": [
       "<div>\n",
       "<style scoped>\n",
       "    .dataframe tbody tr th:only-of-type {\n",
       "        vertical-align: middle;\n",
       "    }\n",
       "\n",
       "    .dataframe tbody tr th {\n",
       "        vertical-align: top;\n",
       "    }\n",
       "\n",
       "    .dataframe thead th {\n",
       "        text-align: right;\n",
       "    }\n",
       "</style>\n",
       "<table border=\"1\" class=\"dataframe\">\n",
       "  <thead>\n",
       "    <tr style=\"text-align: right;\">\n",
       "      <th></th>\n",
       "      <th>Feature1</th>\n",
       "      <th>Feature2</th>\n",
       "      <th>Feature3</th>\n",
       "      <th>Feature4</th>\n",
       "      <th>Flower Type</th>\n",
       "      <th>Label</th>\n",
       "    </tr>\n",
       "  </thead>\n",
       "  <tbody>\n",
       "    <tr>\n",
       "      <th>0</th>\n",
       "      <td>5.1</td>\n",
       "      <td>3.5</td>\n",
       "      <td>1.4</td>\n",
       "      <td>0.2</td>\n",
       "      <td>Iris-setosa</td>\n",
       "      <td>1</td>\n",
       "    </tr>\n",
       "    <tr>\n",
       "      <th>1</th>\n",
       "      <td>4.9</td>\n",
       "      <td>3.0</td>\n",
       "      <td>1.4</td>\n",
       "      <td>0.2</td>\n",
       "      <td>Iris-setosa</td>\n",
       "      <td>1</td>\n",
       "    </tr>\n",
       "    <tr>\n",
       "      <th>2</th>\n",
       "      <td>4.7</td>\n",
       "      <td>3.2</td>\n",
       "      <td>1.3</td>\n",
       "      <td>0.2</td>\n",
       "      <td>Iris-setosa</td>\n",
       "      <td>1</td>\n",
       "    </tr>\n",
       "    <tr>\n",
       "      <th>3</th>\n",
       "      <td>4.6</td>\n",
       "      <td>3.1</td>\n",
       "      <td>1.5</td>\n",
       "      <td>0.2</td>\n",
       "      <td>Iris-setosa</td>\n",
       "      <td>1</td>\n",
       "    </tr>\n",
       "    <tr>\n",
       "      <th>4</th>\n",
       "      <td>5.0</td>\n",
       "      <td>3.6</td>\n",
       "      <td>1.4</td>\n",
       "      <td>0.2</td>\n",
       "      <td>Iris-setosa</td>\n",
       "      <td>1</td>\n",
       "    </tr>\n",
       "  </tbody>\n",
       "</table>\n",
       "</div>"
      ],
      "text/plain": [
       "  Feature1 Feature2 Feature3 Feature4  Flower Type  Label\n",
       "0      5.1      3.5      1.4      0.2  Iris-setosa      1\n",
       "1      4.9      3.0      1.4      0.2  Iris-setosa      1\n",
       "2      4.7      3.2      1.3      0.2  Iris-setosa      1\n",
       "3      4.6      3.1      1.5      0.2  Iris-setosa      1\n",
       "4      5.0      3.6      1.4      0.2  Iris-setosa      1"
      ]
     },
     "execution_count": 237,
     "metadata": {},
     "output_type": "execute_result"
    }
   ],
   "source": [
    "filtered_data = data[data[\"Flower Type\"].isin([\"Iris-setosa\", \"Iris-versicolor\"])].copy()\n",
    "filtered_data[\"Label\"] = filtered_data[\"Flower Type\"].map({\"Iris-setosa\": 1, \"Iris-versicolor\": -1})\n",
    "filtered_data.head()"
   ]
  },
  {
   "cell_type": "markdown",
   "id": "6e1e96fd",
   "metadata": {},
   "source": [
    "### Step 4: Extract features and labels"
   ]
  },
  {
   "cell_type": "code",
   "execution_count": 238,
   "id": "12d1bd14",
   "metadata": {},
   "outputs": [],
   "source": [
    "X = filtered_data[[\"Feature2\", \"Feature3\"]].astype(float).values\n",
    "y = filtered_data[\"Label\"].values"
   ]
  },
  {
   "cell_type": "markdown",
   "id": "cfe31295",
   "metadata": {},
   "source": [
    "### Step 5: Run Perceptron\n"
   ]
  },
  {
   "cell_type": "code",
   "execution_count": 239,
   "id": "c7c0b9f7",
   "metadata": {},
   "outputs": [],
   "source": [
    "final_w, total_mistakes = perceptron(X, y)\n",
    "true_margin = calculate_margin(X, y, final_w)"
   ]
  },
  {
   "cell_type": "markdown",
   "id": "5cc5bbe7",
   "metadata": {},
   "source": [
    "### Step 6: Return results"
   ]
  },
  {
   "cell_type": "code",
   "execution_count": 240,
   "id": "b4fad732",
   "metadata": {},
   "outputs": [
    {
     "name": "stdout",
     "output_type": "stream",
     "text": [
      "Final weight vector (w): [ 4.1 -5.2]\n",
      "Total mistakes made: 5\n",
      "True maximum margin: 0.40320551388964704\n"
     ]
    }
   ],
   "source": [
    "print(\"Final weight vector (w):\", final_w)\n",
    "print(\"Total mistakes made:\", total_mistakes)\n",
    "print(\"True maximum margin:\", true_margin)\n"
   ]
  },
  {
   "cell_type": "markdown",
   "id": "228100dc",
   "metadata": {},
   "source": [
    "### Step 7: Visualize the dataset and the decision boundary"
   ]
  },
  {
   "cell_type": "code",
   "execution_count": 241,
   "id": "d3e9ee3f",
   "metadata": {},
   "outputs": [
    {
     "data": {
      "image/png": "[encoded data removed]",
      "text/plain": [
       "<Figure size 432x288 with 1 Axes>"
      ]
     },
     "metadata": {
      "needs_background": "light"
     },
     "output_type": "display_data"
    }
   ],
   "source": [
    "plot_data_and_boundary(X, y, final_w)"
   ]
  },
  {
   "cell_type": "markdown",
   "id": "80918da1",
   "metadata": {},
   "source": [
    "### Step 1: Load and preprocess the data"
   ]
  },
  {
   "cell_type": "code",
   "execution_count": 242,
   "id": "07e692fd",
   "metadata": {},
   "outputs": [],
   "source": [
    "file_path = \"/Users/twmrgwzln/Downloads/iris.txt\""
   ]
  },
  {
   "cell_type": "markdown",
   "id": "43a2eff9",
   "metadata": {},
   "source": [
    "### Step 2: Read dataset and split columns"
   ]
  },
  {
   "cell_type": "code",
   "execution_count": 243,
   "id": "544e3f6e",
   "metadata": {},
   "outputs": [
    {
     "name": "stdout",
     "output_type": "stream",
     "text": [
      "    Feature1 Feature2 Feature3 Feature4     Flower Type\n",
      "0        5.1      3.5      1.4      0.2     Iris-setosa\n",
      "1        4.9      3.0      1.4      0.2     Iris-setosa\n",
      "2        4.7      3.2      1.3      0.2     Iris-setosa\n",
      "3        4.6      3.1      1.5      0.2     Iris-setosa\n",
      "4        5.0      3.6      1.4      0.2     Iris-setosa\n",
      "..       ...      ...      ...      ...             ...\n",
      "145      6.7      3.0      5.2      2.3  Iris-virginica\n",
      "146      6.3      2.5      5.0      1.9  Iris-virginica\n",
      "147      6.5      3.0      5.2      2.0  Iris-virginica\n",
      "148      6.2      3.4      5.4      2.3  Iris-virginica\n",
      "149      5.9      3.0      5.1      1.8  Iris-virginica\n",
      "\n",
      "[150 rows x 5 columns]\n"
     ]
    }
   ],
   "source": [
    "data = pd.read_csv(file_path, header=None)\n",
    "data = data[0].str.split(expand=True)\n",
    "data.columns = [\"Feature1\", \"Feature2\", \"Feature3\", \"Feature4\", \"Flower Type\"]\n",
    "print(data)"
   ]
  },
  {
   "cell_type": "markdown",
   "id": "44b6276d",
   "metadata": {},
   "source": [
    "### Step 3: Filter Setosa and virginica"
   ]
  },
  {
   "cell_type": "code",
   "execution_count": 244,
   "id": "de4c5e2d",
   "metadata": {},
   "outputs": [
    {
     "data": {
      "text/html": [
       "<div>\n",
       "<style scoped>\n",
       "    .dataframe tbody tr th:only-of-type {\n",
       "        vertical-align: middle;\n",
       "    }\n",
       "\n",
       "    .dataframe tbody tr th {\n",
       "        vertical-align: top;\n",
       "    }\n",
       "\n",
       "    .dataframe thead th {\n",
       "        text-align: right;\n",
       "    }\n",
       "</style>\n",
       "<table border=\"1\" class=\"dataframe\">\n",
       "  <thead>\n",
       "    <tr style=\"text-align: right;\">\n",
       "      <th></th>\n",
       "      <th>Feature1</th>\n",
       "      <th>Feature2</th>\n",
       "      <th>Feature3</th>\n",
       "      <th>Feature4</th>\n",
       "      <th>Flower Type</th>\n",
       "      <th>Label</th>\n",
       "    </tr>\n",
       "  </thead>\n",
       "  <tbody>\n",
       "    <tr>\n",
       "      <th>0</th>\n",
       "      <td>5.1</td>\n",
       "      <td>3.5</td>\n",
       "      <td>1.4</td>\n",
       "      <td>0.2</td>\n",
       "      <td>Iris-setosa</td>\n",
       "      <td>1</td>\n",
       "    </tr>\n",
       "    <tr>\n",
       "      <th>1</th>\n",
       "      <td>4.9</td>\n",
       "      <td>3.0</td>\n",
       "      <td>1.4</td>\n",
       "      <td>0.2</td>\n",
       "      <td>Iris-setosa</td>\n",
       "      <td>1</td>\n",
       "    </tr>\n",
       "    <tr>\n",
       "      <th>2</th>\n",
       "      <td>4.7</td>\n",
       "      <td>3.2</td>\n",
       "      <td>1.3</td>\n",
       "      <td>0.2</td>\n",
       "      <td>Iris-setosa</td>\n",
       "      <td>1</td>\n",
       "    </tr>\n",
       "    <tr>\n",
       "      <th>3</th>\n",
       "      <td>4.6</td>\n",
       "      <td>3.1</td>\n",
       "      <td>1.5</td>\n",
       "      <td>0.2</td>\n",
       "      <td>Iris-setosa</td>\n",
       "      <td>1</td>\n",
       "    </tr>\n",
       "    <tr>\n",
       "      <th>4</th>\n",
       "      <td>5.0</td>\n",
       "      <td>3.6</td>\n",
       "      <td>1.4</td>\n",
       "      <td>0.2</td>\n",
       "      <td>Iris-setosa</td>\n",
       "      <td>1</td>\n",
       "    </tr>\n",
       "  </tbody>\n",
       "</table>\n",
       "</div>"
      ],
      "text/plain": [
       "  Feature1 Feature2 Feature3 Feature4  Flower Type  Label\n",
       "0      5.1      3.5      1.4      0.2  Iris-setosa      1\n",
       "1      4.9      3.0      1.4      0.2  Iris-setosa      1\n",
       "2      4.7      3.2      1.3      0.2  Iris-setosa      1\n",
       "3      4.6      3.1      1.5      0.2  Iris-setosa      1\n",
       "4      5.0      3.6      1.4      0.2  Iris-setosa      1"
      ]
     },
     "execution_count": 244,
     "metadata": {},
     "output_type": "execute_result"
    }
   ],
   "source": [
    "filtered_data = data[data[\"Flower Type\"].isin([\"Iris-setosa\", \"Iris-virginica\"])].copy()\n",
    "filtered_data[\"Label\"] = filtered_data[\"Flower Type\"].map({\"Iris-setosa\": 1, \"Iris-virginica\": -1})\n",
    "filtered_data.head()"
   ]
  },
  {
   "cell_type": "markdown",
   "id": "e58053e2",
   "metadata": {},
   "source": [
    "### Step 4: Extract features and labels"
   ]
  },
  {
   "cell_type": "code",
   "execution_count": 245,
   "id": "76095de6",
   "metadata": {},
   "outputs": [],
   "source": [
    "X = filtered_data[[\"Feature2\", \"Feature3\"]].astype(float).values\n",
    "y = filtered_data[\"Label\"].values"
   ]
  },
  {
   "cell_type": "markdown",
   "id": "d5ff11fb",
   "metadata": {},
   "source": [
    "### Step 5: Run Perceptron & Calculate the true maximum margin"
   ]
  },
  {
   "cell_type": "code",
   "execution_count": 246,
   "id": "ad9e0e32",
   "metadata": {},
   "outputs": [],
   "source": [
    "final_w, total_mistakes = perceptron(X, y)\n",
    "true_margin = calculate_margin(X, y, final_w)"
   ]
  },
  {
   "cell_type": "markdown",
   "id": "cb183ba4",
   "metadata": {},
   "source": [
    "### Step 6: Return results"
   ]
  },
  {
   "cell_type": "code",
   "execution_count": 247,
   "id": "857f3260",
   "metadata": {},
   "outputs": [
    {
     "name": "stdout",
     "output_type": "stream",
     "text": [
      "Final weight vector (w): [ 3.7 -3.2]\n",
      "Total mistakes made: 3\n",
      "True maximum margin: 0.8708397607151707\n"
     ]
    }
   ],
   "source": [
    "print(\"Final weight vector (w):\", final_w)\n",
    "print(\"Total mistakes made:\", total_mistakes)\n",
    "print(\"True maximum margin:\", true_margin)\n"
   ]
  },
  {
   "cell_type": "markdown",
   "id": "5c057992",
   "metadata": {},
   "source": [
    "### Step 7: Visualize the dataset and the decision boundary"
   ]
  },
  {
   "cell_type": "code",
   "execution_count": 248,
   "id": "7c7b94d6",
   "metadata": {
    "scrolled": true
   },
   "outputs": [
    {
     "data": {
      "image/png": "[encoded data removed]",
      "text/plain": [
       "<Figure size 432x288 with 1 Axes>"
      ]
     },
     "metadata": {
      "needs_background": "light"
     },
     "output_type": "display_data"
    }
   ],
   "source": [
    "plot_data_and_boundary(X, y, final_w)"
   ]
  },
  {
   "cell_type": "markdown",
   "id": "7119a48b",
   "metadata": {},
   "source": [
    "# Problem 3"
   ]
  },
  {
   "cell_type": "code",
   "execution_count": 249,
   "id": "137a9a41",
   "metadata": {},
   "outputs": [],
   "source": [
    "# Python Version: 3.8\n",
    "\n",
    "from sklearn.model_selection import train_test_split\n",
    "from sklearn.metrics import accuracy_score\n",
    "import matplotlib.pyplot as plt"
   ]
  },
  {
   "cell_type": "markdown",
   "id": "a195d7bd",
   "metadata": {},
   "source": [
    "## Function: `find_lines`\n",
    "\n",
    "This function computes the parameters for all unique lines that can be formed by pairs of points in a 2D or higher-dimensional space. Each line is represented in terms of a weight vector `w` and a bias term `b`, based on the line's equation.\n",
    "\n",
    "---\n",
    "\n",
    "### Parameters\n",
    "- **`points`**: A `numpy` array of shape `(n_points, n_dimensions)` representing the coordinates of the points.\n",
    "  - `n_points`: The number of points in the dataset.\n",
    "  - `n_dimensions`: The dimensionality of each point (e.g., 2 for 2D, 3 for 3D).\n",
    "\n",
    "---\n",
    "\n",
    "### Returns\n",
    "- **`lines`**: A list of tuples, where each tuple `(w, b)` represents a unique line:\n",
    "  - **`w`**: A `numpy` array representing the weight vector (direction of the line).\n",
    "  - **`b`**: A float representing the bias term of the line.\n"
   ]
  },
  {
   "cell_type": "code",
   "execution_count": 250,
   "id": "30e4eec6",
   "metadata": {},
   "outputs": [],
   "source": [
    "def find_lines(points):\n",
    "    lines = []\n",
    "    for i in range(len(points)):\n",
    "        for j in range(i + 1, len(points)):\n",
    "            p1, p2 = points[i], points[j]\n",
    "            w = p2 - p1\n",
    "            b = -np.dot(w, (p1 + p2) / 2)\n",
    "            lines.append((w, b))\n",
    "    return lines\n"
   ]
  },
  {
   "cell_type": "markdown",
   "id": "57d3abed",
   "metadata": {},
   "source": [
    "## Function: `classify_line`\n",
    "\n",
    "This function classifies a set of points relative to a given line. The classification is determined by the line's parameters \\( w \\) and \\( b \\), and the sign of the computed result indicates on which side of the line each point lies.\n",
    "\n",
    "---\n",
    "\n",
    "### Parameters\n",
    "- **`line`**: A tuple `(w, b)` where:\n",
    "  - **`w`**: A `numpy` array representing the weight vector (direction of the line).\n",
    "  - **`b`**: A scalar representing the bias term of the line.\n",
    "- **`points`**: A `numpy` array of shape `(n_points, n_dimensions)` representing the points to be classified.\n",
    "  - `n_points`: The number of points.\n",
    "  - `n_dimensions`: The dimensionality of each point (should match the dimensions of `w`).\n",
    "\n",
    "---\n",
    "\n",
    "### Returns\n",
    "- **`classification`**: A `numpy` array of shape `(n_points,)` where each element is:\n",
    "  - `+1`: If the point lies on one side of the line.\n",
    "  - `-1`: If the point lies on the other side of the line.\n",
    "  - `0`: If the point lies exactly on the line.\n",
    "\n"
   ]
  },
  {
   "cell_type": "code",
   "execution_count": 251,
   "id": "e874a62d",
   "metadata": {},
   "outputs": [],
   "source": [
    "def classify_line(line, points):\n",
    "    w, b = line\n",
    "    return np.sign(np.dot(points, w) + b)\n"
   ]
  },
  {
   "cell_type": "markdown",
   "id": "9dd45eff",
   "metadata": {},
   "source": [
    "## Function: `adaboost`\n",
    "\n",
    "This function implements the **AdaBoost** (Adaptive Boosting) algorithm for binary classification. AdaBoost combines multiple weak classifiers (in this case, decision boundaries defined by lines) to form a strong classifier by iteratively updating weights and combining hypotheses based on their accuracy.\n",
    "\n",
    "---\n",
    "\n",
    "### Parameters\n",
    "- **`S`**: A `numpy` array of shape `(n_samples, n_features)` representing the training dataset.\n",
    "- **`T`**: A `numpy` array of shape `(n_test_samples, n_features)` representing the test dataset.\n",
    "- **`labels_S`**: A `numpy` array of shape `(n_samples,)` containing the training labels (`+1` or `-1`).\n",
    "- **`labels_T`**: A `numpy` array of shape `(n_test_samples,)` containing the test labels (`+1` or `-1`).\n",
    "- **`num_hypotheses`**: An integer specifying the number of weak classifiers to combine. Default is 8.\n",
    "\n",
    "---\n",
    "\n",
    "### Returns\n",
    "- **`train_errors`**: A list containing the training error for each iteration of the AdaBoost algorithm.\n",
    "- **`test_errors`**: A list containing the test error for each iteration of the AdaBoost algorithm.\n",
    "\n"
   ]
  },
  {
   "cell_type": "code",
   "execution_count": 252,
   "id": "33d278f6",
   "metadata": {},
   "outputs": [],
   "source": [
    "def adaboost(S, T, labels_S, labels_T, num_hypotheses=8):\n",
    "    n = len(S)\n",
    "    weights = np.ones(n) / n\n",
    "    lines = find_lines(S)\n",
    "    hypotheses = []\n",
    "    alpha = []\n",
    "\n",
    "    # Train AdaBoost\n",
    "    for k in range(num_hypotheses):\n",
    "        best_error = float(\"inf\")\n",
    "        best_line = None\n",
    "\n",
    "        for line in lines:\n",
    "            predictions = classify_line(line, S)\n",
    "            weighted_error = np.sum(weights * (predictions != labels_S))\n",
    "\n",
    "            if weighted_error < best_error:\n",
    "                best_error = weighted_error\n",
    "                best_line = line\n",
    "\n",
    "        # Compute alpha and update weights\n",
    "        alpha_k = 0.5 * np.log((1 - best_error) / max(best_error, 1e-10))\n",
    "        predictions = classify_line(best_line, S)\n",
    "        weights *= np.exp(-alpha_k * labels_S * predictions)\n",
    "        weights /= np.sum(weights)\n",
    "\n",
    "        hypotheses.append(best_line)\n",
    "        alpha.append(alpha_k)\n",
    "\n",
    "    # Calculate training and test errors for each k\n",
    "    train_errors = []\n",
    "    test_errors = []\n",
    "    for k in range(1, num_hypotheses + 1):\n",
    "        combined_train = np.sign(\n",
    "            np.sum([alpha[i] * classify_line(hypotheses[i], S) for i in range(k)], axis=0)\n",
    "        )\n",
    "        combined_test = np.sign(\n",
    "            np.sum([alpha[i] * classify_line(hypotheses[i], T) for i in range(k)], axis=0)\n",
    "        )\n",
    "\n",
    "        train_errors.append(1 - accuracy_score(labels_S, combined_train))\n",
    "        test_errors.append(1 - accuracy_score(labels_T, combined_test))\n",
    "\n",
    "    return train_errors, test_errors"
   ]
  },
  {
   "cell_type": "markdown",
   "id": "4f514d48",
   "metadata": {},
   "source": [
    "### Step 1: Load and preprocess the data"
   ]
  },
  {
   "cell_type": "code",
   "execution_count": 253,
   "id": "d7b13be6",
   "metadata": {},
   "outputs": [
    {
     "name": "stdout",
     "output_type": "stream",
     "text": [
      "     Feature1  Feature2  Feature3  Feature4           Label\n",
      "0         5.1       3.5       1.4       0.2     Iris-setosa\n",
      "1         4.9       3.0       1.4       0.2     Iris-setosa\n",
      "2         4.7       3.2       1.3       0.2     Iris-setosa\n",
      "3         4.6       3.1       1.5       0.2     Iris-setosa\n",
      "4         5.0       3.6       1.4       0.2     Iris-setosa\n",
      "..        ...       ...       ...       ...             ...\n",
      "145       6.7       3.0       5.2       2.3  Iris-virginica\n",
      "146       6.3       2.5       5.0       1.9  Iris-virginica\n",
      "147       6.5       3.0       5.2       2.0  Iris-virginica\n",
      "148       6.2       3.4       5.4       2.3  Iris-virginica\n",
      "149       5.9       3.0       5.1       1.8  Iris-virginica\n",
      "\n",
      "[150 rows x 5 columns]\n"
     ]
    }
   ],
   "source": [
    "data = pd.read_csv(data_path, header=None, delim_whitespace=True)\n",
    "data.columns = [\"Feature1\", \"Feature2\", \"Feature3\", \"Feature4\", \"Label\"]\n",
    "print(data)"
   ]
  },
  {
   "cell_type": "markdown",
   "id": "2cddbfc2",
   "metadata": {},
   "source": [
    "### Step 2: Filter Versicolor and Virginica"
   ]
  },
  {
   "cell_type": "code",
   "execution_count": 254,
   "id": "b1690549",
   "metadata": {},
   "outputs": [
    {
     "data": {
      "text/html": [
       "<div>\n",
       "<style scoped>\n",
       "    .dataframe tbody tr th:only-of-type {\n",
       "        vertical-align: middle;\n",
       "    }\n",
       "\n",
       "    .dataframe tbody tr th {\n",
       "        vertical-align: top;\n",
       "    }\n",
       "\n",
       "    .dataframe thead th {\n",
       "        text-align: right;\n",
       "    }\n",
       "</style>\n",
       "<table border=\"1\" class=\"dataframe\">\n",
       "  <thead>\n",
       "    <tr style=\"text-align: right;\">\n",
       "      <th></th>\n",
       "      <th>Feature1</th>\n",
       "      <th>Feature2</th>\n",
       "      <th>Feature3</th>\n",
       "      <th>Feature4</th>\n",
       "      <th>Label</th>\n",
       "    </tr>\n",
       "  </thead>\n",
       "  <tbody>\n",
       "    <tr>\n",
       "      <th>50</th>\n",
       "      <td>7.0</td>\n",
       "      <td>3.2</td>\n",
       "      <td>4.7</td>\n",
       "      <td>1.4</td>\n",
       "      <td>1</td>\n",
       "    </tr>\n",
       "    <tr>\n",
       "      <th>51</th>\n",
       "      <td>6.4</td>\n",
       "      <td>3.2</td>\n",
       "      <td>4.5</td>\n",
       "      <td>1.5</td>\n",
       "      <td>1</td>\n",
       "    </tr>\n",
       "    <tr>\n",
       "      <th>52</th>\n",
       "      <td>6.9</td>\n",
       "      <td>3.1</td>\n",
       "      <td>4.9</td>\n",
       "      <td>1.5</td>\n",
       "      <td>1</td>\n",
       "    </tr>\n",
       "    <tr>\n",
       "      <th>53</th>\n",
       "      <td>5.5</td>\n",
       "      <td>2.3</td>\n",
       "      <td>4.0</td>\n",
       "      <td>1.3</td>\n",
       "      <td>1</td>\n",
       "    </tr>\n",
       "    <tr>\n",
       "      <th>54</th>\n",
       "      <td>6.5</td>\n",
       "      <td>2.8</td>\n",
       "      <td>4.6</td>\n",
       "      <td>1.5</td>\n",
       "      <td>1</td>\n",
       "    </tr>\n",
       "  </tbody>\n",
       "</table>\n",
       "</div>"
      ],
      "text/plain": [
       "    Feature1  Feature2  Feature3  Feature4  Label\n",
       "50       7.0       3.2       4.7       1.4      1\n",
       "51       6.4       3.2       4.5       1.5      1\n",
       "52       6.9       3.1       4.9       1.5      1\n",
       "53       5.5       2.3       4.0       1.3      1\n",
       "54       6.5       2.8       4.6       1.5      1"
      ]
     },
     "execution_count": 254,
     "metadata": {},
     "output_type": "execute_result"
    }
   ],
   "source": [
    "filtered_data = data[data[\"Label\"].isin([\"Iris-versicolor\", \"Iris-virginica\"])]\n",
    "filtered_data[\"Label\"] = filtered_data[\"Label\"].map({\"Iris-versicolor\": 1, \"Iris-virginica\": -1})\n",
    "filtered_data.head()"
   ]
  },
  {
   "cell_type": "markdown",
   "id": "fa6be311",
   "metadata": {},
   "source": [
    "### Step 3: Extract features and labels"
   ]
  },
  {
   "cell_type": "code",
   "execution_count": 255,
   "id": "0ace5fe4",
   "metadata": {},
   "outputs": [],
   "source": [
    "X = filtered_data[[\"Feature2\", \"Feature3\"]].values\n",
    "y = filtered_data[\"Label\"].values"
   ]
  },
  {
   "cell_type": "markdown",
   "id": "fe4f10e7",
   "metadata": {},
   "source": [
    "### Step 4: Run AdaBoost 100 times"
   ]
  },
  {
   "cell_type": "code",
   "execution_count": 256,
   "id": "f305b9fe",
   "metadata": {},
   "outputs": [],
   "source": [
    "num_runs = 100\n",
    "train_errors_avg = np.zeros(8)\n",
    "test_errors_avg = np.zeros(8)\n",
    "\n",
    "for _ in range(num_runs):\n",
    "    X_train, X_test, y_train, y_test = train_test_split(X, y, test_size=0.5, random_state=None)\n",
    "    train_errors, test_errors = adaboost(X_train, X_test, y_train, y_test)\n",
    "    train_errors_avg += np.array(train_errors)\n",
    "    test_errors_avg += np.array(test_errors)\n",
    "\n",
    "train_errors_avg /= num_runs\n",
    "test_errors_avg /= num_runs"
   ]
  },
  {
   "cell_type": "markdown",
   "id": "bb260f35",
   "metadata": {},
   "source": [
    "### Step 5: Display results\n"
   ]
  },
  {
   "cell_type": "code",
   "execution_count": 257,
   "id": "8e6f53bf",
   "metadata": {},
   "outputs": [
    {
     "name": "stdout",
     "output_type": "stream",
     "text": [
      "Average Empirical Error (Train): [0.0462 0.048  0.0392 0.0382 0.0294 0.0302 0.025  0.0204]\n",
      "Average True Error (Test): [0.1028 0.1026 0.0986 0.0982 0.1008 0.102  0.1022 0.1046]\n"
     ]
    }
   ],
   "source": [
    "print(\"Average Empirical Error (Train):\", train_errors_avg)\n",
    "print(\"Average True Error (Test):\", test_errors_avg)\n"
   ]
  },
  {
   "cell_type": "markdown",
   "id": "399c40e8",
   "metadata": {},
   "source": [
    "### Step 6: Plot results\n"
   ]
  },
  {
   "cell_type": "code",
   "execution_count": 258,
   "id": "d55dbc56",
   "metadata": {},
   "outputs": [
    {
     "data": {
      "image/png": "[encoded data removed]",
      "text/plain": [
       "<Figure size 432x288 with 1 Axes>"
      ]
     },
     "metadata": {
      "needs_background": "light"
     },
     "output_type": "display_data"
    }
   ],
   "source": [
    "plt.plot(range(1, 9), train_errors_avg, label=\"Empirical Error (Train)\", marker=\"o\")\n",
    "plt.plot(range(1, 9), test_errors_avg, label=\"True Error (Test)\", marker=\"s\")\n",
    "plt.xlabel(\"Number of Hypotheses (k)\")\n",
    "plt.ylabel(\"Error\")\n",
    "plt.title(\"Empirical and True Errors for AdaBoost\")\n",
    "plt.legend()\n",
    "plt.grid()\n",
    "plt.show()"
   ]
  }
 ],
 "metadata": {
  "kernelspec": {
   "display_name": "Python 3",
   "language": "python",
   "name": "python3"
  },
  "language_info": {
   "codemirror_mode": {
    "name": "ipython",
    "version": 3
   },
   "file_extension": ".py",
   "mimetype": "text/x-python",
   "name": "python",
   "nbconvert_exporter": "python",
   "pygments_lexer": "ipython3",
   "version": "3.8.8"
  }
 },
 "nbformat": 4,
 "nbformat_minor": 5
}
